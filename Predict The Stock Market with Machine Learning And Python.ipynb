{
 "cells": [
  {
   "cell_type": "markdown",
   "id": "34ef3dbf",
   "metadata": {},
   "source": [
    "# Downloading S&P500 index Price Data "
   ]
  },
  {
   "cell_type": "code",
   "execution_count": 1,
   "id": "491b0daa",
   "metadata": {},
   "outputs": [],
   "source": [
    "import yfinance as yf"
   ]
  },
  {
   "cell_type": "code",
   "execution_count": 2,
   "id": "b9a84474",
   "metadata": {},
   "outputs": [],
   "source": [
    "sp500 = yf.Ticker(\"^GSPC\")"
   ]
  },
  {
   "cell_type": "code",
   "execution_count": 3,
   "id": "8db318b5",
   "metadata": {},
   "outputs": [],
   "source": [
    "sp500 = sp500.history(period=\"max\")"
   ]
  },
  {
   "cell_type": "code",
   "execution_count": 4,
   "id": "6640aedf",
   "metadata": {},
   "outputs": [
    {
     "data": {
      "text/html": [
       "<div>\n",
       "<style scoped>\n",
       "    .dataframe tbody tr th:only-of-type {\n",
       "        vertical-align: middle;\n",
       "    }\n",
       "\n",
       "    .dataframe tbody tr th {\n",
       "        vertical-align: top;\n",
       "    }\n",
       "\n",
       "    .dataframe thead th {\n",
       "        text-align: right;\n",
       "    }\n",
       "</style>\n",
       "<table border=\"1\" class=\"dataframe\">\n",
       "  <thead>\n",
       "    <tr style=\"text-align: right;\">\n",
       "      <th></th>\n",
       "      <th>Open</th>\n",
       "      <th>High</th>\n",
       "      <th>Low</th>\n",
       "      <th>Close</th>\n",
       "      <th>Volume</th>\n",
       "      <th>Dividends</th>\n",
       "      <th>Stock Splits</th>\n",
       "    </tr>\n",
       "    <tr>\n",
       "      <th>Date</th>\n",
       "      <th></th>\n",
       "      <th></th>\n",
       "      <th></th>\n",
       "      <th></th>\n",
       "      <th></th>\n",
       "      <th></th>\n",
       "      <th></th>\n",
       "    </tr>\n",
       "  </thead>\n",
       "  <tbody>\n",
       "    <tr>\n",
       "      <th>1927-12-30 00:00:00-05:00</th>\n",
       "      <td>17.660000</td>\n",
       "      <td>17.660000</td>\n",
       "      <td>17.660000</td>\n",
       "      <td>17.660000</td>\n",
       "      <td>0</td>\n",
       "      <td>0.0</td>\n",
       "      <td>0.0</td>\n",
       "    </tr>\n",
       "    <tr>\n",
       "      <th>1928-01-03 00:00:00-05:00</th>\n",
       "      <td>17.760000</td>\n",
       "      <td>17.760000</td>\n",
       "      <td>17.760000</td>\n",
       "      <td>17.760000</td>\n",
       "      <td>0</td>\n",
       "      <td>0.0</td>\n",
       "      <td>0.0</td>\n",
       "    </tr>\n",
       "    <tr>\n",
       "      <th>1928-01-04 00:00:00-05:00</th>\n",
       "      <td>17.719999</td>\n",
       "      <td>17.719999</td>\n",
       "      <td>17.719999</td>\n",
       "      <td>17.719999</td>\n",
       "      <td>0</td>\n",
       "      <td>0.0</td>\n",
       "      <td>0.0</td>\n",
       "    </tr>\n",
       "    <tr>\n",
       "      <th>1928-01-05 00:00:00-05:00</th>\n",
       "      <td>17.549999</td>\n",
       "      <td>17.549999</td>\n",
       "      <td>17.549999</td>\n",
       "      <td>17.549999</td>\n",
       "      <td>0</td>\n",
       "      <td>0.0</td>\n",
       "      <td>0.0</td>\n",
       "    </tr>\n",
       "    <tr>\n",
       "      <th>1928-01-06 00:00:00-05:00</th>\n",
       "      <td>17.660000</td>\n",
       "      <td>17.660000</td>\n",
       "      <td>17.660000</td>\n",
       "      <td>17.660000</td>\n",
       "      <td>0</td>\n",
       "      <td>0.0</td>\n",
       "      <td>0.0</td>\n",
       "    </tr>\n",
       "    <tr>\n",
       "      <th>...</th>\n",
       "      <td>...</td>\n",
       "      <td>...</td>\n",
       "      <td>...</td>\n",
       "      <td>...</td>\n",
       "      <td>...</td>\n",
       "      <td>...</td>\n",
       "      <td>...</td>\n",
       "    </tr>\n",
       "    <tr>\n",
       "      <th>2023-09-07 00:00:00-04:00</th>\n",
       "      <td>4434.549805</td>\n",
       "      <td>4457.810059</td>\n",
       "      <td>4430.459961</td>\n",
       "      <td>4451.140137</td>\n",
       "      <td>3763760000</td>\n",
       "      <td>0.0</td>\n",
       "      <td>0.0</td>\n",
       "    </tr>\n",
       "    <tr>\n",
       "      <th>2023-09-08 00:00:00-04:00</th>\n",
       "      <td>4451.299805</td>\n",
       "      <td>4473.529785</td>\n",
       "      <td>4448.379883</td>\n",
       "      <td>4457.490234</td>\n",
       "      <td>3259290000</td>\n",
       "      <td>0.0</td>\n",
       "      <td>0.0</td>\n",
       "    </tr>\n",
       "    <tr>\n",
       "      <th>2023-09-11 00:00:00-04:00</th>\n",
       "      <td>4480.979980</td>\n",
       "      <td>4490.770020</td>\n",
       "      <td>4467.890137</td>\n",
       "      <td>4487.459961</td>\n",
       "      <td>3369920000</td>\n",
       "      <td>0.0</td>\n",
       "      <td>0.0</td>\n",
       "    </tr>\n",
       "    <tr>\n",
       "      <th>2023-09-12 00:00:00-04:00</th>\n",
       "      <td>4473.270020</td>\n",
       "      <td>4487.109863</td>\n",
       "      <td>4456.830078</td>\n",
       "      <td>4461.899902</td>\n",
       "      <td>3435740000</td>\n",
       "      <td>0.0</td>\n",
       "      <td>0.0</td>\n",
       "    </tr>\n",
       "    <tr>\n",
       "      <th>2023-09-13 00:00:00-04:00</th>\n",
       "      <td>4462.649902</td>\n",
       "      <td>4479.390137</td>\n",
       "      <td>4453.520020</td>\n",
       "      <td>4467.439941</td>\n",
       "      <td>3529430000</td>\n",
       "      <td>0.0</td>\n",
       "      <td>0.0</td>\n",
       "    </tr>\n",
       "  </tbody>\n",
       "</table>\n",
       "<p>24040 rows × 7 columns</p>\n",
       "</div>"
      ],
      "text/plain": [
       "                                  Open         High          Low        Close  \\\n",
       "Date                                                                            \n",
       "1927-12-30 00:00:00-05:00    17.660000    17.660000    17.660000    17.660000   \n",
       "1928-01-03 00:00:00-05:00    17.760000    17.760000    17.760000    17.760000   \n",
       "1928-01-04 00:00:00-05:00    17.719999    17.719999    17.719999    17.719999   \n",
       "1928-01-05 00:00:00-05:00    17.549999    17.549999    17.549999    17.549999   \n",
       "1928-01-06 00:00:00-05:00    17.660000    17.660000    17.660000    17.660000   \n",
       "...                                ...          ...          ...          ...   \n",
       "2023-09-07 00:00:00-04:00  4434.549805  4457.810059  4430.459961  4451.140137   \n",
       "2023-09-08 00:00:00-04:00  4451.299805  4473.529785  4448.379883  4457.490234   \n",
       "2023-09-11 00:00:00-04:00  4480.979980  4490.770020  4467.890137  4487.459961   \n",
       "2023-09-12 00:00:00-04:00  4473.270020  4487.109863  4456.830078  4461.899902   \n",
       "2023-09-13 00:00:00-04:00  4462.649902  4479.390137  4453.520020  4467.439941   \n",
       "\n",
       "                               Volume  Dividends  Stock Splits  \n",
       "Date                                                            \n",
       "1927-12-30 00:00:00-05:00           0        0.0           0.0  \n",
       "1928-01-03 00:00:00-05:00           0        0.0           0.0  \n",
       "1928-01-04 00:00:00-05:00           0        0.0           0.0  \n",
       "1928-01-05 00:00:00-05:00           0        0.0           0.0  \n",
       "1928-01-06 00:00:00-05:00           0        0.0           0.0  \n",
       "...                               ...        ...           ...  \n",
       "2023-09-07 00:00:00-04:00  3763760000        0.0           0.0  \n",
       "2023-09-08 00:00:00-04:00  3259290000        0.0           0.0  \n",
       "2023-09-11 00:00:00-04:00  3369920000        0.0           0.0  \n",
       "2023-09-12 00:00:00-04:00  3435740000        0.0           0.0  \n",
       "2023-09-13 00:00:00-04:00  3529430000        0.0           0.0  \n",
       "\n",
       "[24040 rows x 7 columns]"
      ]
     },
     "execution_count": 4,
     "metadata": {},
     "output_type": "execute_result"
    }
   ],
   "source": [
    "sp500"
   ]
  },
  {
   "cell_type": "code",
   "execution_count": 5,
   "id": "e31ebd54",
   "metadata": {},
   "outputs": [
    {
     "data": {
      "text/plain": [
       "DatetimeIndex(['1927-12-30 00:00:00-05:00', '1928-01-03 00:00:00-05:00',\n",
       "               '1928-01-04 00:00:00-05:00', '1928-01-05 00:00:00-05:00',\n",
       "               '1928-01-06 00:00:00-05:00', '1928-01-09 00:00:00-05:00',\n",
       "               '1928-01-10 00:00:00-05:00', '1928-01-11 00:00:00-05:00',\n",
       "               '1928-01-12 00:00:00-05:00', '1928-01-13 00:00:00-05:00',\n",
       "               ...\n",
       "               '2023-08-30 00:00:00-04:00', '2023-08-31 00:00:00-04:00',\n",
       "               '2023-09-01 00:00:00-04:00', '2023-09-05 00:00:00-04:00',\n",
       "               '2023-09-06 00:00:00-04:00', '2023-09-07 00:00:00-04:00',\n",
       "               '2023-09-08 00:00:00-04:00', '2023-09-11 00:00:00-04:00',\n",
       "               '2023-09-12 00:00:00-04:00', '2023-09-13 00:00:00-04:00'],\n",
       "              dtype='datetime64[ns, America/New_York]', name='Date', length=24040, freq=None)"
      ]
     },
     "execution_count": 5,
     "metadata": {},
     "output_type": "execute_result"
    }
   ],
   "source": [
    "sp500.index"
   ]
  },
  {
   "cell_type": "markdown",
   "id": "215dc306",
   "metadata": {},
   "source": [
    "# Cleaning and Visalizating stock market   "
   ]
  },
  {
   "cell_type": "code",
   "execution_count": 6,
   "id": "397dae98",
   "metadata": {},
   "outputs": [
    {
     "data": {
      "text/plain": [
       "<AxesSubplot:xlabel='Date'>"
      ]
     },
     "execution_count": 6,
     "metadata": {},
     "output_type": "execute_result"
    },
    {
     "data": {
      "image/png": "[encoded data removed]",
      "text/plain": [
       "<Figure size 640x480 with 1 Axes>"
      ]
     },
     "metadata": {},
     "output_type": "display_data"
    }
   ],
   "source": [
    "sp500.plot.line(y=\"Close\",use_index=True)"
   ]
  },
  {
   "cell_type": "code",
   "execution_count": 7,
   "id": "1691b0b1",
   "metadata": {},
   "outputs": [],
   "source": [
    "del sp500[\"Dividends\"]\n",
    "del sp500[\"Stock Splits\"]"
   ]
  },
  {
   "cell_type": "code",
   "execution_count": 8,
   "id": "643c15c2",
   "metadata": {},
   "outputs": [
    {
     "data": {
      "text/html": [
       "<div>\n",
       "<style scoped>\n",
       "    .dataframe tbody tr th:only-of-type {\n",
       "        vertical-align: middle;\n",
       "    }\n",
       "\n",
       "    .dataframe tbody tr th {\n",
       "        vertical-align: top;\n",
       "    }\n",
       "\n",
       "    .dataframe thead th {\n",
       "        text-align: right;\n",
       "    }\n",
       "</style>\n",
       "<table border=\"1\" class=\"dataframe\">\n",
       "  <thead>\n",
       "    <tr style=\"text-align: right;\">\n",
       "      <th></th>\n",
       "      <th>Open</th>\n",
       "      <th>High</th>\n",
       "      <th>Low</th>\n",
       "      <th>Close</th>\n",
       "      <th>Volume</th>\n",
       "    </tr>\n",
       "    <tr>\n",
       "      <th>Date</th>\n",
       "      <th></th>\n",
       "      <th></th>\n",
       "      <th></th>\n",
       "      <th></th>\n",
       "      <th></th>\n",
       "    </tr>\n",
       "  </thead>\n",
       "  <tbody>\n",
       "    <tr>\n",
       "      <th>1927-12-30 00:00:00-05:00</th>\n",
       "      <td>17.660000</td>\n",
       "      <td>17.660000</td>\n",
       "      <td>17.660000</td>\n",
       "      <td>17.660000</td>\n",
       "      <td>0</td>\n",
       "    </tr>\n",
       "    <tr>\n",
       "      <th>1928-01-03 00:00:00-05:00</th>\n",
       "      <td>17.760000</td>\n",
       "      <td>17.760000</td>\n",
       "      <td>17.760000</td>\n",
       "      <td>17.760000</td>\n",
       "      <td>0</td>\n",
       "    </tr>\n",
       "    <tr>\n",
       "      <th>1928-01-04 00:00:00-05:00</th>\n",
       "      <td>17.719999</td>\n",
       "      <td>17.719999</td>\n",
       "      <td>17.719999</td>\n",
       "      <td>17.719999</td>\n",
       "      <td>0</td>\n",
       "    </tr>\n",
       "    <tr>\n",
       "      <th>1928-01-05 00:00:00-05:00</th>\n",
       "      <td>17.549999</td>\n",
       "      <td>17.549999</td>\n",
       "      <td>17.549999</td>\n",
       "      <td>17.549999</td>\n",
       "      <td>0</td>\n",
       "    </tr>\n",
       "    <tr>\n",
       "      <th>1928-01-06 00:00:00-05:00</th>\n",
       "      <td>17.660000</td>\n",
       "      <td>17.660000</td>\n",
       "      <td>17.660000</td>\n",
       "      <td>17.660000</td>\n",
       "      <td>0</td>\n",
       "    </tr>\n",
       "    <tr>\n",
       "      <th>...</th>\n",
       "      <td>...</td>\n",
       "      <td>...</td>\n",
       "      <td>...</td>\n",
       "      <td>...</td>\n",
       "      <td>...</td>\n",
       "    </tr>\n",
       "    <tr>\n",
       "      <th>2023-09-07 00:00:00-04:00</th>\n",
       "      <td>4434.549805</td>\n",
       "      <td>4457.810059</td>\n",
       "      <td>4430.459961</td>\n",
       "      <td>4451.140137</td>\n",
       "      <td>3763760000</td>\n",
       "    </tr>\n",
       "    <tr>\n",
       "      <th>2023-09-08 00:00:00-04:00</th>\n",
       "      <td>4451.299805</td>\n",
       "      <td>4473.529785</td>\n",
       "      <td>4448.379883</td>\n",
       "      <td>4457.490234</td>\n",
       "      <td>3259290000</td>\n",
       "    </tr>\n",
       "    <tr>\n",
       "      <th>2023-09-11 00:00:00-04:00</th>\n",
       "      <td>4480.979980</td>\n",
       "      <td>4490.770020</td>\n",
       "      <td>4467.890137</td>\n",
       "      <td>4487.459961</td>\n",
       "      <td>3369920000</td>\n",
       "    </tr>\n",
       "    <tr>\n",
       "      <th>2023-09-12 00:00:00-04:00</th>\n",
       "      <td>4473.270020</td>\n",
       "      <td>4487.109863</td>\n",
       "      <td>4456.830078</td>\n",
       "      <td>4461.899902</td>\n",
       "      <td>3435740000</td>\n",
       "    </tr>\n",
       "    <tr>\n",
       "      <th>2023-09-13 00:00:00-04:00</th>\n",
       "      <td>4462.649902</td>\n",
       "      <td>4479.390137</td>\n",
       "      <td>4453.520020</td>\n",
       "      <td>4467.439941</td>\n",
       "      <td>3529430000</td>\n",
       "    </tr>\n",
       "  </tbody>\n",
       "</table>\n",
       "<p>24040 rows × 5 columns</p>\n",
       "</div>"
      ],
      "text/plain": [
       "                                  Open         High          Low        Close  \\\n",
       "Date                                                                            \n",
       "1927-12-30 00:00:00-05:00    17.660000    17.660000    17.660000    17.660000   \n",
       "1928-01-03 00:00:00-05:00    17.760000    17.760000    17.760000    17.760000   \n",
       "1928-01-04 00:00:00-05:00    17.719999    17.719999    17.719999    17.719999   \n",
       "1928-01-05 00:00:00-05:00    17.549999    17.549999    17.549999    17.549999   \n",
       "1928-01-06 00:00:00-05:00    17.660000    17.660000    17.660000    17.660000   \n",
       "...                                ...          ...          ...          ...   \n",
       "2023-09-07 00:00:00-04:00  4434.549805  4457.810059  4430.459961  4451.140137   \n",
       "2023-09-08 00:00:00-04:00  4451.299805  4473.529785  4448.379883  4457.490234   \n",
       "2023-09-11 00:00:00-04:00  4480.979980  4490.770020  4467.890137  4487.459961   \n",
       "2023-09-12 00:00:00-04:00  4473.270020  4487.109863  4456.830078  4461.899902   \n",
       "2023-09-13 00:00:00-04:00  4462.649902  4479.390137  4453.520020  4467.439941   \n",
       "\n",
       "                               Volume  \n",
       "Date                                   \n",
       "1927-12-30 00:00:00-05:00           0  \n",
       "1928-01-03 00:00:00-05:00           0  \n",
       "1928-01-04 00:00:00-05:00           0  \n",
       "1928-01-05 00:00:00-05:00           0  \n",
       "1928-01-06 00:00:00-05:00           0  \n",
       "...                               ...  \n",
       "2023-09-07 00:00:00-04:00  3763760000  \n",
       "2023-09-08 00:00:00-04:00  3259290000  \n",
       "2023-09-11 00:00:00-04:00  3369920000  \n",
       "2023-09-12 00:00:00-04:00  3435740000  \n",
       "2023-09-13 00:00:00-04:00  3529430000  \n",
       "\n",
       "[24040 rows x 5 columns]"
      ]
     },
     "execution_count": 8,
     "metadata": {},
     "output_type": "execute_result"
    }
   ],
   "source": [
    "sp500"
   ]
  },
  {
   "cell_type": "markdown",
   "id": "5deb7a31",
   "metadata": {},
   "source": [
    "# Setting up our target for Machine Learning"
   ]
  },
  {
   "cell_type": "code",
   "execution_count": 9,
   "id": "566ced32",
   "metadata": {},
   "outputs": [
    {
     "data": {
      "text/html": [
       "<div>\n",
       "<style scoped>\n",
       "    .dataframe tbody tr th:only-of-type {\n",
       "        vertical-align: middle;\n",
       "    }\n",
       "\n",
       "    .dataframe tbody tr th {\n",
       "        vertical-align: top;\n",
       "    }\n",
       "\n",
       "    .dataframe thead th {\n",
       "        text-align: right;\n",
       "    }\n",
       "</style>\n",
       "<table border=\"1\" class=\"dataframe\">\n",
       "  <thead>\n",
       "    <tr style=\"text-align: right;\">\n",
       "      <th></th>\n",
       "      <th>Open</th>\n",
       "      <th>High</th>\n",
       "      <th>Low</th>\n",
       "      <th>Close</th>\n",
       "      <th>Volume</th>\n",
       "      <th>Tomorrow</th>\n",
       "    </tr>\n",
       "    <tr>\n",
       "      <th>Date</th>\n",
       "      <th></th>\n",
       "      <th></th>\n",
       "      <th></th>\n",
       "      <th></th>\n",
       "      <th></th>\n",
       "      <th></th>\n",
       "    </tr>\n",
       "  </thead>\n",
       "  <tbody>\n",
       "    <tr>\n",
       "      <th>1927-12-30 00:00:00-05:00</th>\n",
       "      <td>17.660000</td>\n",
       "      <td>17.660000</td>\n",
       "      <td>17.660000</td>\n",
       "      <td>17.660000</td>\n",
       "      <td>0</td>\n",
       "      <td>17.760000</td>\n",
       "    </tr>\n",
       "    <tr>\n",
       "      <th>1928-01-03 00:00:00-05:00</th>\n",
       "      <td>17.760000</td>\n",
       "      <td>17.760000</td>\n",
       "      <td>17.760000</td>\n",
       "      <td>17.760000</td>\n",
       "      <td>0</td>\n",
       "      <td>17.719999</td>\n",
       "    </tr>\n",
       "    <tr>\n",
       "      <th>1928-01-04 00:00:00-05:00</th>\n",
       "      <td>17.719999</td>\n",
       "      <td>17.719999</td>\n",
       "      <td>17.719999</td>\n",
       "      <td>17.719999</td>\n",
       "      <td>0</td>\n",
       "      <td>17.549999</td>\n",
       "    </tr>\n",
       "    <tr>\n",
       "      <th>1928-01-05 00:00:00-05:00</th>\n",
       "      <td>17.549999</td>\n",
       "      <td>17.549999</td>\n",
       "      <td>17.549999</td>\n",
       "      <td>17.549999</td>\n",
       "      <td>0</td>\n",
       "      <td>17.660000</td>\n",
       "    </tr>\n",
       "    <tr>\n",
       "      <th>1928-01-06 00:00:00-05:00</th>\n",
       "      <td>17.660000</td>\n",
       "      <td>17.660000</td>\n",
       "      <td>17.660000</td>\n",
       "      <td>17.660000</td>\n",
       "      <td>0</td>\n",
       "      <td>17.500000</td>\n",
       "    </tr>\n",
       "    <tr>\n",
       "      <th>...</th>\n",
       "      <td>...</td>\n",
       "      <td>...</td>\n",
       "      <td>...</td>\n",
       "      <td>...</td>\n",
       "      <td>...</td>\n",
       "      <td>...</td>\n",
       "    </tr>\n",
       "    <tr>\n",
       "      <th>2023-09-07 00:00:00-04:00</th>\n",
       "      <td>4434.549805</td>\n",
       "      <td>4457.810059</td>\n",
       "      <td>4430.459961</td>\n",
       "      <td>4451.140137</td>\n",
       "      <td>3763760000</td>\n",
       "      <td>4457.490234</td>\n",
       "    </tr>\n",
       "    <tr>\n",
       "      <th>2023-09-08 00:00:00-04:00</th>\n",
       "      <td>4451.299805</td>\n",
       "      <td>4473.529785</td>\n",
       "      <td>4448.379883</td>\n",
       "      <td>4457.490234</td>\n",
       "      <td>3259290000</td>\n",
       "      <td>4487.459961</td>\n",
       "    </tr>\n",
       "    <tr>\n",
       "      <th>2023-09-11 00:00:00-04:00</th>\n",
       "      <td>4480.979980</td>\n",
       "      <td>4490.770020</td>\n",
       "      <td>4467.890137</td>\n",
       "      <td>4487.459961</td>\n",
       "      <td>3369920000</td>\n",
       "      <td>4461.899902</td>\n",
       "    </tr>\n",
       "    <tr>\n",
       "      <th>2023-09-12 00:00:00-04:00</th>\n",
       "      <td>4473.270020</td>\n",
       "      <td>4487.109863</td>\n",
       "      <td>4456.830078</td>\n",
       "      <td>4461.899902</td>\n",
       "      <td>3435740000</td>\n",
       "      <td>4467.439941</td>\n",
       "    </tr>\n",
       "    <tr>\n",
       "      <th>2023-09-13 00:00:00-04:00</th>\n",
       "      <td>4462.649902</td>\n",
       "      <td>4479.390137</td>\n",
       "      <td>4453.520020</td>\n",
       "      <td>4467.439941</td>\n",
       "      <td>3529430000</td>\n",
       "      <td>NaN</td>\n",
       "    </tr>\n",
       "  </tbody>\n",
       "</table>\n",
       "<p>24040 rows × 6 columns</p>\n",
       "</div>"
      ],
      "text/plain": [
       "                                  Open         High          Low        Close  \\\n",
       "Date                                                                            \n",
       "1927-12-30 00:00:00-05:00    17.660000    17.660000    17.660000    17.660000   \n",
       "1928-01-03 00:00:00-05:00    17.760000    17.760000    17.760000    17.760000   \n",
       "1928-01-04 00:00:00-05:00    17.719999    17.719999    17.719999    17.719999   \n",
       "1928-01-05 00:00:00-05:00    17.549999    17.549999    17.549999    17.549999   \n",
       "1928-01-06 00:00:00-05:00    17.660000    17.660000    17.660000    17.660000   \n",
       "...                                ...          ...          ...          ...   \n",
       "2023-09-07 00:00:00-04:00  4434.549805  4457.810059  4430.459961  4451.140137   \n",
       "2023-09-08 00:00:00-04:00  4451.299805  4473.529785  4448.379883  4457.490234   \n",
       "2023-09-11 00:00:00-04:00  4480.979980  4490.770020  4467.890137  4487.459961   \n",
       "2023-09-12 00:00:00-04:00  4473.270020  4487.109863  4456.830078  4461.899902   \n",
       "2023-09-13 00:00:00-04:00  4462.649902  4479.390137  4453.520020  4467.439941   \n",
       "\n",
       "                               Volume     Tomorrow  \n",
       "Date                                                \n",
       "1927-12-30 00:00:00-05:00           0    17.760000  \n",
       "1928-01-03 00:00:00-05:00           0    17.719999  \n",
       "1928-01-04 00:00:00-05:00           0    17.549999  \n",
       "1928-01-05 00:00:00-05:00           0    17.660000  \n",
       "1928-01-06 00:00:00-05:00           0    17.500000  \n",
       "...                               ...          ...  \n",
       "2023-09-07 00:00:00-04:00  3763760000  4457.490234  \n",
       "2023-09-08 00:00:00-04:00  3259290000  4487.459961  \n",
       "2023-09-11 00:00:00-04:00  3369920000  4461.899902  \n",
       "2023-09-12 00:00:00-04:00  3435740000  4467.439941  \n",
       "2023-09-13 00:00:00-04:00  3529430000          NaN  \n",
       "\n",
       "[24040 rows x 6 columns]"
      ]
     },
     "execution_count": 9,
     "metadata": {},
     "output_type": "execute_result"
    }
   ],
   "source": [
    "sp500[\"Tomorrow\"] = sp500[\"Close\"].shift(-1)\n",
    "sp500"
   ]
  },
  {
   "cell_type": "code",
   "execution_count": 10,
   "id": "6cf6d58b",
   "metadata": {},
   "outputs": [],
   "source": [
    "sp500[\"Target\"] = (sp500[\"Tomorrow\"]>sp500[\"Close\"]).astype(int)"
   ]
  },
  {
   "cell_type": "code",
   "execution_count": 11,
   "id": "b6182b1a",
   "metadata": {},
   "outputs": [
    {
     "data": {
      "text/html": [
       "<div>\n",
       "<style scoped>\n",
       "    .dataframe tbody tr th:only-of-type {\n",
       "        vertical-align: middle;\n",
       "    }\n",
       "\n",
       "    .dataframe tbody tr th {\n",
       "        vertical-align: top;\n",
       "    }\n",
       "\n",
       "    .dataframe thead th {\n",
       "        text-align: right;\n",
       "    }\n",
       "</style>\n",
       "<table border=\"1\" class=\"dataframe\">\n",
       "  <thead>\n",
       "    <tr style=\"text-align: right;\">\n",
       "      <th></th>\n",
       "      <th>Open</th>\n",
       "      <th>High</th>\n",
       "      <th>Low</th>\n",
       "      <th>Close</th>\n",
       "      <th>Volume</th>\n",
       "      <th>Tomorrow</th>\n",
       "      <th>Target</th>\n",
       "    </tr>\n",
       "    <tr>\n",
       "      <th>Date</th>\n",
       "      <th></th>\n",
       "      <th></th>\n",
       "      <th></th>\n",
       "      <th></th>\n",
       "      <th></th>\n",
       "      <th></th>\n",
       "      <th></th>\n",
       "    </tr>\n",
       "  </thead>\n",
       "  <tbody>\n",
       "    <tr>\n",
       "      <th>1995-01-03 00:00:00-05:00</th>\n",
       "      <td>459.209991</td>\n",
       "      <td>459.269989</td>\n",
       "      <td>457.200012</td>\n",
       "      <td>459.109985</td>\n",
       "      <td>262450000</td>\n",
       "      <td>460.709991</td>\n",
       "      <td>1</td>\n",
       "    </tr>\n",
       "    <tr>\n",
       "      <th>1995-01-04 00:00:00-05:00</th>\n",
       "      <td>459.130005</td>\n",
       "      <td>460.720001</td>\n",
       "      <td>457.559998</td>\n",
       "      <td>460.709991</td>\n",
       "      <td>319510000</td>\n",
       "      <td>460.339996</td>\n",
       "      <td>0</td>\n",
       "    </tr>\n",
       "    <tr>\n",
       "      <th>1995-01-05 00:00:00-05:00</th>\n",
       "      <td>460.730011</td>\n",
       "      <td>461.299988</td>\n",
       "      <td>459.750000</td>\n",
       "      <td>460.339996</td>\n",
       "      <td>309050000</td>\n",
       "      <td>460.679993</td>\n",
       "      <td>1</td>\n",
       "    </tr>\n",
       "    <tr>\n",
       "      <th>1995-01-06 00:00:00-05:00</th>\n",
       "      <td>460.380005</td>\n",
       "      <td>462.489990</td>\n",
       "      <td>459.470001</td>\n",
       "      <td>460.679993</td>\n",
       "      <td>308070000</td>\n",
       "      <td>460.829987</td>\n",
       "      <td>1</td>\n",
       "    </tr>\n",
       "    <tr>\n",
       "      <th>1995-01-09 00:00:00-05:00</th>\n",
       "      <td>460.670013</td>\n",
       "      <td>461.769989</td>\n",
       "      <td>459.739990</td>\n",
       "      <td>460.829987</td>\n",
       "      <td>278790000</td>\n",
       "      <td>461.679993</td>\n",
       "      <td>1</td>\n",
       "    </tr>\n",
       "    <tr>\n",
       "      <th>...</th>\n",
       "      <td>...</td>\n",
       "      <td>...</td>\n",
       "      <td>...</td>\n",
       "      <td>...</td>\n",
       "      <td>...</td>\n",
       "      <td>...</td>\n",
       "      <td>...</td>\n",
       "    </tr>\n",
       "    <tr>\n",
       "      <th>2023-09-07 00:00:00-04:00</th>\n",
       "      <td>4434.549805</td>\n",
       "      <td>4457.810059</td>\n",
       "      <td>4430.459961</td>\n",
       "      <td>4451.140137</td>\n",
       "      <td>3763760000</td>\n",
       "      <td>4457.490234</td>\n",
       "      <td>1</td>\n",
       "    </tr>\n",
       "    <tr>\n",
       "      <th>2023-09-08 00:00:00-04:00</th>\n",
       "      <td>4451.299805</td>\n",
       "      <td>4473.529785</td>\n",
       "      <td>4448.379883</td>\n",
       "      <td>4457.490234</td>\n",
       "      <td>3259290000</td>\n",
       "      <td>4487.459961</td>\n",
       "      <td>1</td>\n",
       "    </tr>\n",
       "    <tr>\n",
       "      <th>2023-09-11 00:00:00-04:00</th>\n",
       "      <td>4480.979980</td>\n",
       "      <td>4490.770020</td>\n",
       "      <td>4467.890137</td>\n",
       "      <td>4487.459961</td>\n",
       "      <td>3369920000</td>\n",
       "      <td>4461.899902</td>\n",
       "      <td>0</td>\n",
       "    </tr>\n",
       "    <tr>\n",
       "      <th>2023-09-12 00:00:00-04:00</th>\n",
       "      <td>4473.270020</td>\n",
       "      <td>4487.109863</td>\n",
       "      <td>4456.830078</td>\n",
       "      <td>4461.899902</td>\n",
       "      <td>3435740000</td>\n",
       "      <td>4467.439941</td>\n",
       "      <td>1</td>\n",
       "    </tr>\n",
       "    <tr>\n",
       "      <th>2023-09-13 00:00:00-04:00</th>\n",
       "      <td>4462.649902</td>\n",
       "      <td>4479.390137</td>\n",
       "      <td>4453.520020</td>\n",
       "      <td>4467.439941</td>\n",
       "      <td>3529430000</td>\n",
       "      <td>NaN</td>\n",
       "      <td>0</td>\n",
       "    </tr>\n",
       "  </tbody>\n",
       "</table>\n",
       "<p>7225 rows × 7 columns</p>\n",
       "</div>"
      ],
      "text/plain": [
       "                                  Open         High          Low        Close  \\\n",
       "Date                                                                            \n",
       "1995-01-03 00:00:00-05:00   459.209991   459.269989   457.200012   459.109985   \n",
       "1995-01-04 00:00:00-05:00   459.130005   460.720001   457.559998   460.709991   \n",
       "1995-01-05 00:00:00-05:00   460.730011   461.299988   459.750000   460.339996   \n",
       "1995-01-06 00:00:00-05:00   460.380005   462.489990   459.470001   460.679993   \n",
       "1995-01-09 00:00:00-05:00   460.670013   461.769989   459.739990   460.829987   \n",
       "...                                ...          ...          ...          ...   \n",
       "2023-09-07 00:00:00-04:00  4434.549805  4457.810059  4430.459961  4451.140137   \n",
       "2023-09-08 00:00:00-04:00  4451.299805  4473.529785  4448.379883  4457.490234   \n",
       "2023-09-11 00:00:00-04:00  4480.979980  4490.770020  4467.890137  4487.459961   \n",
       "2023-09-12 00:00:00-04:00  4473.270020  4487.109863  4456.830078  4461.899902   \n",
       "2023-09-13 00:00:00-04:00  4462.649902  4479.390137  4453.520020  4467.439941   \n",
       "\n",
       "                               Volume     Tomorrow  Target  \n",
       "Date                                                        \n",
       "1995-01-03 00:00:00-05:00   262450000   460.709991       1  \n",
       "1995-01-04 00:00:00-05:00   319510000   460.339996       0  \n",
       "1995-01-05 00:00:00-05:00   309050000   460.679993       1  \n",
       "1995-01-06 00:00:00-05:00   308070000   460.829987       1  \n",
       "1995-01-09 00:00:00-05:00   278790000   461.679993       1  \n",
       "...                               ...          ...     ...  \n",
       "2023-09-07 00:00:00-04:00  3763760000  4457.490234       1  \n",
       "2023-09-08 00:00:00-04:00  3259290000  4487.459961       1  \n",
       "2023-09-11 00:00:00-04:00  3369920000  4461.899902       0  \n",
       "2023-09-12 00:00:00-04:00  3435740000  4467.439941       1  \n",
       "2023-09-13 00:00:00-04:00  3529430000          NaN       0  \n",
       "\n",
       "[7225 rows x 7 columns]"
      ]
     },
     "execution_count": 11,
     "metadata": {},
     "output_type": "execute_result"
    }
   ],
   "source": [
    "sp500 = sp500.loc[\"1995-01-01\":].copy()\n",
    "sp500"
   ]
  },
  {
   "cell_type": "markdown",
   "id": "650b6be8",
   "metadata": {},
   "source": [
    "# Training an initial Machine Learining Model "
   ]
  },
  {
   "cell_type": "code",
   "execution_count": 12,
   "id": "01a416c9",
   "metadata": {},
   "outputs": [
    {
     "data": {
      "text/plain": [
       "RandomForestClassifier(min_samples_split=100, random_state=1)"
      ]
     },
     "execution_count": 12,
     "metadata": {},
     "output_type": "execute_result"
    }
   ],
   "source": [
    "from sklearn.ensemble import RandomForestClassifier\n",
    "model = RandomForestClassifier(n_estimators=100, min_samples_split=100, random_state=1)\n",
    "\n",
    "train = sp500.iloc[:-100]\n",
    "test = sp500.iloc[-100:]\n",
    "\n",
    "predictors = [\"Close\", \"Open\", \"High\", \"Low\"]\n",
    "model.fit(train[predictors], train[\"Target\"])"
   ]
  },
  {
   "cell_type": "code",
   "execution_count": 13,
   "id": "4111635a",
   "metadata": {},
   "outputs": [],
   "source": [
    "from sklearn.metrics import precision_score\n",
    "\n",
    "preds = model.predict(test[predictors])"
   ]
  },
  {
   "cell_type": "code",
   "execution_count": 14,
   "id": "a825842a",
   "metadata": {},
   "outputs": [],
   "source": [
    "import pandas as pd\n",
    "\n",
    "preds = pd.Series(preds, index=test.index)"
   ]
  },
  {
   "cell_type": "code",
   "execution_count": 15,
   "id": "d1b8f282",
   "metadata": {},
   "outputs": [
    {
     "data": {
      "text/plain": [
       "Date\n",
       "2023-04-21 00:00:00-04:00    1\n",
       "2023-04-24 00:00:00-04:00    1\n",
       "2023-04-25 00:00:00-04:00    1\n",
       "2023-04-26 00:00:00-04:00    0\n",
       "2023-04-27 00:00:00-04:00    0\n",
       "                            ..\n",
       "2023-09-07 00:00:00-04:00    1\n",
       "2023-09-08 00:00:00-04:00    1\n",
       "2023-09-11 00:00:00-04:00    1\n",
       "2023-09-12 00:00:00-04:00    1\n",
       "2023-09-13 00:00:00-04:00    1\n",
       "Length: 100, dtype: int32"
      ]
     },
     "execution_count": 15,
     "metadata": {},
     "output_type": "execute_result"
    }
   ],
   "source": [
    "preds"
   ]
  },
  {
   "cell_type": "code",
   "execution_count": 16,
   "id": "dd8fea3c",
   "metadata": {},
   "outputs": [
    {
     "data": {
      "text/plain": [
       "0.5161290322580645"
      ]
     },
     "execution_count": 16,
     "metadata": {},
     "output_type": "execute_result"
    }
   ],
   "source": [
    "precision_score(test[\"Target\"], preds)"
   ]
  },
  {
   "cell_type": "code",
   "execution_count": 17,
   "id": "e5bc2b01",
   "metadata": {},
   "outputs": [],
   "source": [
    "combined = pd.concat([test[\"Target\"], preds], axis=1)"
   ]
  },
  {
   "cell_type": "code",
   "execution_count": 18,
   "id": "137b2b68",
   "metadata": {},
   "outputs": [
    {
     "data": {
      "text/plain": [
       "<AxesSubplot:xlabel='Date'>"
      ]
     },
     "execution_count": 18,
     "metadata": {},
     "output_type": "execute_result"
    },
    {
     "data": {
      "image/png": "[encoded data removed]",
      "text/plain": [
       "<Figure size 640x480 with 1 Axes>"
      ]
     },
     "metadata": {},
     "output_type": "display_data"
    }
   ],
   "source": [
    "combined.plot()"
   ]
  },
  {
   "cell_type": "markdown",
   "id": "8b033aba",
   "metadata": {},
   "source": [
    "# Building A Backtesting System"
   ]
  },
  {
   "cell_type": "code",
   "execution_count": 20,
   "id": "a3a69ee0",
   "metadata": {},
   "outputs": [],
   "source": [
    "def predict(train, test, predictors, model):\n",
    "    model.fit(train[predictors], train[\"Target\"])\n",
    "    preds = model.predict(test[predictors])\n",
    "    preds = pd.Series(preds, index=test.index, name=\"Predictions\")\n",
    "    combined = pd.concat([test[\"Target\"], preds], axis=1)\n",
    "    return combined"
   ]
  },
  {
   "cell_type": "code",
   "execution_count": 21,
   "id": "b2b18f8a",
   "metadata": {},
   "outputs": [],
   "source": [
    "def backtest(data, model, predictors, start=2500, step=250):\n",
    "    all_predictions = []\n",
    "    \n",
    "    for i in range(start, data.shape[0], step):\n",
    "        train = data.iloc[0:i].copy()\n",
    "        test = data.iloc[i:(i+step)].copy()\n",
    "        predictions = predict(train, test, predictors, model)\n",
    "        all_predictions.append(predictions)\n",
    "    return pd.concat(all_predictions)    "
   ]
  },
  {
   "cell_type": "code",
   "execution_count": 22,
   "id": "f6d5f757",
   "metadata": {},
   "outputs": [],
   "source": [
    "predictions = backtest(sp500, model, predictors)"
   ]
  },
  {
   "cell_type": "code",
   "execution_count": null,
   "id": "cc7226b0",
   "metadata": {},
   "outputs": [],
   "source": [
    "predictions[\"Predictions\"].value_counts()"
   ]
  },
  {
   "cell_type": "code",
   "execution_count": null,
   "id": "145c4296",
   "metadata": {},
   "outputs": [],
   "source": [
    "precision_score(predictions[\"Target\"],predictions[\"Predictions\"])"
   ]
  },
  {
   "cell_type": "code",
   "execution_count": null,
   "id": "4c7734b4",
   "metadata": {},
   "outputs": [],
   "source": [
    "predictions[\"Target\"].value_counts() / predictions.shape[0]"
   ]
  },
  {
   "cell_type": "markdown",
   "id": "f5f70508",
   "metadata": {},
   "source": [
    "Adding Additional Predictors To Our Model"
   ]
  },
  {
   "cell_type": "code",
   "execution_count": null,
   "id": "c24d4683",
   "metadata": {},
   "outputs": [],
   "source": [
    "horizons = [2,5,60,250,1000]\n",
    "new_predictors = []\n",
    "\n",
    "for horizon in horizons:\n",
    "    rolling_averages = sp500.rolling(horizon).mean()\n",
    "    \n",
    "    ratio_column = f\"Close_Ratio_{horizon}\"\n",
    "    sp500[ratio_column] = sp500[\"Close\"] / rolling_averages[\"Close\"]\n",
    "    \n",
    "    trend_column = f\"Trend_{horizon}\"\n",
    "    sp500[trend_column] = sp500.shift(1).rolling(horizon).sum()[\"Target\"]\n",
    "    \n",
    "    new_predictors += [ratio_column, trend_column]"
   ]
  },
  {
   "cell_type": "code",
   "execution_count": null,
   "id": "b8c5d25d",
   "metadata": {},
   "outputs": [],
   "source": [
    "sp500"
   ]
  },
  {
   "cell_type": "code",
   "execution_count": null,
   "id": "f30e6796",
   "metadata": {},
   "outputs": [],
   "source": [
    "sp500 = sp500.dropna()\n",
    "sp500"
   ]
  },
  {
   "cell_type": "markdown",
   "id": "e73f45dc",
   "metadata": {},
   "source": [
    "# Improving Our Model"
   ]
  },
  {
   "cell_type": "code",
   "execution_count": null,
   "id": "febe8e7b",
   "metadata": {},
   "outputs": [],
   "source": [
    "model = RandomForestClassifier(n_estimators=200, min_samples_split=50, random_state=1)"
   ]
  },
  {
   "cell_type": "code",
   "execution_count": null,
   "id": "11bae97e",
   "metadata": {},
   "outputs": [],
   "source": [
    "def predict(train, test, predictors, model):\n",
    "    model.fit(train[predictors], train[\"Target\"])\n",
    "    preds = model.predict_proba(test[predictors])[:,1]\n",
    "    preds[preds >= .6] = 1\n",
    "    preds[preds < .6] = 0\n",
    "    preds = pd.Series(preds, index=test.index, name=\"Predictions\")\n",
    "    combined = pd.concat([test[\"Target\"], preds], axis=1)\n",
    "    return combined"
   ]
  },
  {
   "cell_type": "code",
   "execution_count": null,
   "id": "af27ced5",
   "metadata": {},
   "outputs": [],
   "source": [
    "predictions =  backtest(sp500, model, new_predictors)"
   ]
  },
  {
   "cell_type": "code",
   "execution_count": null,
   "id": "dfd6d118",
   "metadata": {},
   "outputs": [],
   "source": [
    "predictions[\"Predictions\"].value_counts()"
   ]
  },
  {
   "cell_type": "code",
   "execution_count": null,
   "id": "57394abe",
   "metadata": {},
   "outputs": [],
   "source": [
    "precision_score(predictions[\"Target\"], predictions[\"Predictions\"])"
   ]
  }
 ],
 "metadata": {
  "kernelspec": {
   "display_name": "Python 3 (ipykernel)",
   "language": "python",
   "name": "python3"
  },
  "language_info": {
   "codemirror_mode": {
    "name": "ipython",
    "version": 3
   },
   "file_extension": ".py",
   "mimetype": "text/x-python",
   "name": "python",
   "nbconvert_exporter": "python",
   "pygments_lexer": "ipython3",
   "version": "3.9.13"
  }
 },
 "nbformat": 4,
 "nbformat_minor": 5
}
