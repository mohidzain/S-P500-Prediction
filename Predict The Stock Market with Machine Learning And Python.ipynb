{
 "cells": [
  {
   "cell_type": "raw",
   "id": "8ff51153",
   "metadata": {},
   "source": [
    "Downloading S&P500 index Price Data "
   ]
  },
  {
   "cell_type": "code",
   "execution_count": null,
   "id": "491b0daa",
   "metadata": {},
   "outputs": [],
   "source": [
    "import yfinance as yf"
   ]
  },
  {
   "cell_type": "code",
   "execution_count": null,
   "id": "b9a84474",
   "metadata": {},
   "outputs": [],
   "source": [
    "sp500 = yf.Ticker(\"^GSPC\")"
   ]
  },
  {
   "cell_type": "code",
   "execution_count": null,
   "id": "8db318b5",
   "metadata": {},
   "outputs": [],
   "source": [
    "sp500 = sp500.history(period=\"max\")"
   ]
  },
  {
   "cell_type": "code",
   "execution_count": null,
   "id": "e31ebd54",
   "metadata": {},
   "outputs": [],
   "source": [
    "sp500.index"
   ]
  },
  {
   "cell_type": "raw",
   "id": "d89024cf",
   "metadata": {},
   "source": [
    "Cleaning and Visalizating stock market   "
   ]
  },
  {
   "cell_type": "code",
   "execution_count": null,
   "id": "397dae98",
   "metadata": {},
   "outputs": [],
   "source": [
    "sp500.plot.line(y=\"Close\",use_index=True)"
   ]
  },
  {
   "cell_type": "code",
   "execution_count": null,
   "id": "1691b0b1",
   "metadata": {},
   "outputs": [],
   "source": [
    "del sp500[\"Dividends\"]\n",
    "del sp500[\"Stock Splits\"]"
   ]
  },
  {
   "cell_type": "raw",
   "id": "96d941f2",
   "metadata": {},
   "source": [
    "Setting up our target for Machine Learning"
   ]
  },
  {
   "cell_type": "code",
   "execution_count": null,
   "id": "566ced32",
   "metadata": {},
   "outputs": [],
   "source": [
    "sp500[\"Tomorrow\"] = sp500[\"Close\"].shift(-1)\n",
    "sp500"
   ]
  },
  {
   "cell_type": "code",
   "execution_count": null,
   "id": "6cf6d58b",
   "metadata": {},
   "outputs": [],
   "source": [
    "sp500[\"Target\"] = (sp500[\"Tomorrow\"]>sp500[\"Close\"]).astype(int)"
   ]
  },
  {
   "cell_type": "code",
   "execution_count": null,
   "id": "b6182b1a",
   "metadata": {},
   "outputs": [],
   "source": [
    "sp500 = sp500.loc[\"1995-01-01\":].copy()\n",
    "sp500"
   ]
  },
  {
   "cell_type": "raw",
   "id": "a4861fc5",
   "metadata": {},
   "source": [
    "Training an initial Machine Learining Model "
   ]
  },
  {
   "cell_type": "code",
   "execution_count": null,
   "id": "01a416c9",
   "metadata": {},
   "outputs": [],
   "source": [
    "from sklearn.ensamble import RandomForestClassifier\n",
    "model = RandomForestClassifier(n_estimators=100, min_samples=100, random_state=1)\n",
    "\n",
    "train = sp500.iloc[:-100]\n",
    "test = sp500.iloc[-100:]\n",
    "\n",
    "predictors = [\"Close\", \"Volume\", \"Open\", \"High\", \"Low\"]\n",
    "model.fit(train[predicators], train[\"Target\"])"
   ]
  },
  {
   "cell_type": "code",
   "execution_count": null,
   "id": "4111635a",
   "metadata": {},
   "outputs": [],
   "source": [
    "from sklearn.matrics import precision_score\n",
    "\n",
    "preds = model.predict(test[predicitors])"
   ]
  },
  {
   "cell_type": "code",
   "execution_count": null,
   "id": "a825842a",
   "metadata": {},
   "outputs": [],
   "source": [
    "import pandas as pd\n",
    "\n",
    "preds = pd.Series(preds, index=test.index)"
   ]
  },
  {
   "cell_type": "code",
   "execution_count": null,
   "id": "d1b8f282",
   "metadata": {},
   "outputs": [],
   "source": [
    "preds"
   ]
  },
  {
   "cell_type": "code",
   "execution_count": null,
   "id": "dd8fea3c",
   "metadata": {},
   "outputs": [],
   "source": [
    "precision_score(test[\"Target\"], preds)"
   ]
  },
  {
   "cell_type": "code",
   "execution_count": null,
   "id": "e5bc2b01",
   "metadata": {},
   "outputs": [],
   "source": [
    "combined = pd.concat(test[\"Target\"], preds, axis=1)"
   ]
  },
  {
   "cell_type": "code",
   "execution_count": null,
   "id": "137b2b68",
   "metadata": {},
   "outputs": [],
   "source": [
    "combined.plot()"
   ]
  },
  {
   "cell_type": "raw",
   "id": "ffddaff5",
   "metadata": {},
   "source": [
    "Building The Backtesting System"
   ]
  },
  {
   "cell_type": "code",
   "execution_count": null,
   "id": "a3a69ee0",
   "metadata": {},
   "outputs": [],
   "source": []
  },
  {
   "cell_type": "code",
   "execution_count": null,
   "id": "b2b18f8a",
   "metadata": {},
   "outputs": [],
   "source": []
  }
 ],
 "metadata": {
  "kernelspec": {
   "display_name": "Python 3 (ipykernel)",
   "language": "python",
   "name": "python3"
  },
  "language_info": {
   "codemirror_mode": {
    "name": "ipython",
    "version": 3
   },
   "file_extension": ".py",
   "mimetype": "text/x-python",
   "name": "python",
   "nbconvert_exporter": "python",
   "pygments_lexer": "ipython3",
   "version": "3.9.13"
  }
 },
 "nbformat": 4,
 "nbformat_minor": 5
}
